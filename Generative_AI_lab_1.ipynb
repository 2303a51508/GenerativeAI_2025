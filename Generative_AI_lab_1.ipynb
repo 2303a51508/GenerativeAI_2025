{
  "nbformat": 4,
  "nbformat_minor": 0,
  "metadata": {
    "colab": {
      "provenance": [],
      "include_colab_link": true
    },
    "kernelspec": {
      "name": "python3",
      "display_name": "Python 3"
    },
    "language_info": {
      "name": "python"
    }
  },
  "cells": [
    {
      "cell_type": "markdown",
      "metadata": {
        "id": "view-in-github",
        "colab_type": "text"
      },
      "source": [
        "<a href=\"https://colab.research.google.com/github/2303a51508/GenerativeAI_2025/blob/main/Generative_AI_lab_1.ipynb\" target=\"_parent\"><img src=\"https://colab.research.google.com/assets/colab-badge.svg\" alt=\"Open In Colab\"/></a>"
      ]
    },
    {
      "cell_type": "code",
      "execution_count": null,
      "metadata": {
        "colab": {
          "base_uri": "https://localhost:8080/"
        },
        "id": "Mrkiwy7LjhO-",
        "outputId": "4e04a09f-f04a-4252-c41a-940863e73b3c"
      },
      "outputs": [
        {
          "output_type": "stream",
          "name": "stdout",
          "text": [
            "From Scratch:\n",
            "MAE: 0.4600000000000016\n",
            "MSE: 0.24600000000000147\n",
            "RMSE: 0.49598387070549127\n"
          ]
        }
      ],
      "source": [
        "import numpy as np\n",
        "\n",
        "\n",
        "YActual = np.array([20, 30, 40, 50, 60])\n",
        "YPred = np.array([20.5, 30.3, 40.2, 50.6, 60.7])\n",
        "\n",
        "\n",
        "def compute_metrics(y_actual, y_pred):\n",
        "\n",
        "    errors = y_actual - y_pred\n",
        "    absolute_errors = np.abs(errors)\n",
        "    squared_errors = errors ** 2\n",
        "\n",
        "\n",
        "    mae = np.mean(absolute_errors)\n",
        "    mse = np.mean(squared_errors)\n",
        "    rmse = np.sqrt(mse)\n",
        "\n",
        "    return mae, mse, rmse\n",
        "\n",
        "\n",
        "mae, mse, rmse = compute_metrics(YActual, YPred)\n",
        "print(\"From Scratch:\")\n",
        "print(f\"MAE: {mae}\")\n",
        "print(f\"MSE: {mse}\")\n",
        "print(f\"RMSE: {rmse}\")\n"
      ]
    },
    {
      "cell_type": "code",
      "source": [
        "import numpy as np\n",
        "from sklearn.metrics import accuracy_score, precision_score, recall_score, f1_score\n",
        "\n",
        "\n",
        "YActual = np.array([0, 1, 2, 0, 0, 1, 1, 2, 2, 1, 0, 2, 2, 0, 2, 1, 2, 2, 2, 2])\n",
        "YPred = np.array([0, 1, 0, 0, 1, 2, 1, 1, 0, 2, 1, 2, 0, 2, 2, 1, 0, 2, 2, 2])\n",
        "\n",
        "\n",
        "def compute_classification_metrics(y_actual, y_pred):\n",
        "    # Accuracy\n",
        "    accuracy = np.sum(y_actual == y_pred) / len(y_actual)\n",
        "\n",
        "\n",
        "    unique_classes = np.unique(y_actual)\n",
        "    precision_scores, recall_scores, f1_scores = [], [], []\n",
        "\n",
        "    for cls in unique_classes:\n",
        "        tp = np.sum((y_actual == cls) & (y_pred == cls))\n",
        "        fp = np.sum((y_actual != cls) & (y_pred == cls))\n",
        "        fn = np.sum((y_actual == cls) & (y_pred != cls))\n",
        "\n",
        "\n",
        "        precision = tp / (tp + fp) if (tp + fp) > 0 else 0\n",
        "        recall = tp / (tp + fn) if (tp + fn) > 0 else 0\n",
        "        f1 = 2 * (precision * recall) / (precision + recall) if (precision + recall) > 0 else 0\n",
        "\n",
        "        precision_scores.append(precision)\n",
        "        recall_scores.append(recall)\n",
        "        f1_scores.append(f1)\n",
        "    macro_precision = np.mean(precision_scores)\n",
        "    macro_recall = np.mean(recall_scores)\n",
        "    macro_f1 = np.mean(f1_scores)\n",
        "\n",
        "    return accuracy, macro_precision, macro_recall, macro_f1\n",
        "accuracy, macro_precision, macro_recall, macro_f1 = compute_classification_metrics(YActual, YPred)\n",
        "print(\"From Scratch:\")\n",
        "print(f\"Accuracy: {accuracy}\")\n",
        "print(f\"Precision: {macro_precision}\")\n",
        "print(f\"Recall: {macro_recall}\")\n",
        "print(f\"F1 Score: {macro_f1}\")\n",
        "\n",
        "\n",
        "accuracy_lib = accuracy_score(YActual, YPred)\n",
        "precision_lib = precision_score(YActual, YPred, average='macro')\n",
        "recall_lib = recall_score(YActual, YPred, average='macro')\n",
        "f1_lib = f1_score(YActual, YPred, average='macro')\n",
        "\n",
        "print(\"\\nUsing Libraries:\")\n",
        "print(f\"Accuracy: {accuracy_lib}\")\n",
        "print(f\"Precision: {precision_lib}\")\n",
        "print(f\"Recall: {recall_lib}\")\n",
        "print(f\"F1 Score: {f1_lib}\")\n"
      ],
      "metadata": {
        "colab": {
          "base_uri": "https://localhost:8080/"
        },
        "id": "CZCR2kwmmAMO",
        "outputId": "873eea28-86cd-4d27-ae32-6c96a91d1aa9"
      },
      "execution_count": null,
      "outputs": [
        {
          "output_type": "stream",
          "name": "stdout",
          "text": [
            "From Scratch:\n",
            "Accuracy: 0.5\n",
            "Precision: 0.4861111111111111\n",
            "Recall: 0.5\n",
            "F1 Score: 0.48821548821548816\n",
            "\n",
            "Using Libraries:\n",
            "Accuracy: 0.5\n",
            "Precision: 0.4861111111111111\n",
            "Recall: 0.5\n",
            "F1 Score: 0.48821548821548816\n"
          ]
        }
      ]
    }
  ]
}