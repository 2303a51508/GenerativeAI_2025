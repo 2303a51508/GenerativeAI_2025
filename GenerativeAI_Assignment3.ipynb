{
  "nbformat": 4,
  "nbformat_minor": 0,
  "metadata": {
    "colab": {
      "provenance": [],
      "include_colab_link": true
    },
    "kernelspec": {
      "name": "python3",
      "display_name": "Python 3"
    },
    "language_info": {
      "name": "python"
    }
  },
  "cells": [
    {
      "cell_type": "markdown",
      "metadata": {
        "id": "view-in-github",
        "colab_type": "text"
      },
      "source": [
        "<a href=\"https://colab.research.google.com/github/2303a51508/GenerativeAI_2025/blob/main/GenerativeAI_Assignment3.ipynb\" target=\"_parent\"><img src=\"https://colab.research.google.com/assets/colab-badge.svg\" alt=\"Open In Colab\"/></a>"
      ]
    },
    {
      "cell_type": "markdown",
      "source": [
        "Question-1\n"
      ],
      "metadata": {
        "id": "g8Dytdpv3pOw"
      }
    },
    {
      "cell_type": "code",
      "source": [
        "\n",
        "def derivative(x):\n",
        "  return 20 * x**3 + 6 * x\n",
        "def gradient_descent(learning_rate, iterations, initial_x):\n",
        "  x = initial_x\n",
        "  for _ in range(iterations):\n",
        "    grad = derivative(x)\n",
        "    x = x - learning_rate * grad\n",
        "  return x\n",
        "learning_rate = 0.01\n",
        "iterations = 1000\n",
        "initial_x = 1.0\n",
        "x_min = gradient_descent(learning_rate, iterations, initial_x)\n",
        "print(\"The value of x that minimizes f(x) is:\", x_min)"
      ],
      "metadata": {
        "colab": {
          "base_uri": "https://localhost:8080/"
        },
        "id": "gfE9zMi71UVI",
        "outputId": "504b8c0e-46fb-4a1f-fdea-a92558c1292d"
      },
      "execution_count": 1,
      "outputs": [
        {
          "output_type": "stream",
          "name": "stdout",
          "text": [
            "The value of x that minimizes f(x) is: 5.963540395046457e-28\n"
          ]
        }
      ]
    },
    {
      "cell_type": "markdown",
      "source": [
        "Question-2"
      ],
      "metadata": {
        "id": "StBwVzGn3wdh"
      }
    },
    {
      "cell_type": "code",
      "source": [
        "\n",
        "def derivative_x(x):\n",
        "  return 6 * x\n",
        "def derivative_y(y):\n",
        "  return -5 * (2.71828 ** -y)\n",
        "def gradient_descent(learning_rate, iterations, initial_x, initial_y):\n",
        "  x, y = initial_x, initial_y\n",
        "  for _ in range(iterations):\n",
        "    grad_x = derivative_x(x)\n",
        "    grad_y = derivative_y(y)\n",
        "    x = x - learning_rate * grad_x\n",
        "    y = y - learning_rate * grad_y\n",
        "  return x, y\n",
        "learning_rate = 0.01\n",
        "iterations = 1000\n",
        "initial_x, initial_y = 1.0, 1.0\n",
        "x_min, y_min = gradient_descent(learning_rate, iterations, initial_x, initial_y)\n",
        "print(\"The values of x and y that minimize g(x, y) are:\", x_min, y_min)"
      ],
      "metadata": {
        "colab": {
          "base_uri": "https://localhost:8080/"
        },
        "id": "ZNcHQ4S_2DF1",
        "outputId": "7b1a0d20-78da-4e80-84a5-b4e539bd2be4"
      },
      "execution_count": 2,
      "outputs": [
        {
          "output_type": "stream",
          "name": "stdout",
          "text": [
            "The values of x and y that minimize g(x, y) are: 1.3423123924933694e-27 3.966372788969171\n"
          ]
        }
      ]
    },
    {
      "cell_type": "markdown",
      "source": [
        "Question-3"
      ],
      "metadata": {
        "id": "GvKcBags3zTQ"
      }
    },
    {
      "cell_type": "code",
      "source": [
        "\n",
        "def sigmoid_derivative(x):\n",
        "  sig_x = 1 / (1 + 2.71828**-x)\n",
        "  return sig_x * (1 - sig_x)\n",
        "def gradient_descent(learning_rate, iterations, initial_x):\n",
        "  x = initial_x\n",
        "  for _ in range(iterations):\n",
        "    grad = sigmoid_derivative(x)\n",
        "    x = x - learning_rate * grad\n",
        "  return x\n",
        "learning_rate = 0.1\n",
        "iterations = 1000\n",
        "initial_x = 0.0\n",
        "x_min = gradient_descent(learning_rate, iterations, initial_x)\n",
        "print(\"The value of x that minimizes z(x) is:\", x_min)"
      ],
      "metadata": {
        "colab": {
          "base_uri": "https://localhost:8080/"
        },
        "id": "R43tymAB2eYZ",
        "outputId": "ee86fc3f-eeae-40e9-c816-0ed77b101b6f"
      },
      "execution_count": 3,
      "outputs": [
        {
          "output_type": "stream",
          "name": "stdout",
          "text": [
            "The value of x that minimizes z(x) is: -4.512438801965497\n"
          ]
        }
      ]
    },
    {
      "cell_type": "markdown",
      "source": [
        "Question-4"
      ],
      "metadata": {
        "id": "J5yvqVDY33EI"
      }
    },
    {
      "cell_type": "code",
      "source": [
        "\n",
        "def squared_error(m, c, input_value, expected_output):\n",
        "  predicted_output = m * input_value + c\n",
        "  return (expected_output - predicted_output) ** 2\n",
        "def derivatives(m, c, input_value, expected_output):\n",
        "  predicted_output = m * input_value + c\n",
        "  error = expected_output - predicted_output\n",
        "  d_m = -2 * input_value * error\n",
        "  d_c = -2 * error\n",
        "  return d_m, d_c\n",
        "def gradient_descent(learning_rate, iterations, input_value, expected_output):\n",
        "  m, c = 0.0, 0.0\n",
        "  for _ in range(iterations):\n",
        "    d_m, d_c = derivatives(m, c, input_value, expected_output)\n",
        "    m = m - learning_rate * d_m\n",
        "    c = c - learning_rate * d_c\n",
        "  return m, c\n",
        "learning_rate = 0.01\n",
        "iterations = 1000\n",
        "input_value = 2\n",
        "expected_output = 0.5\n",
        "optimal_m, optimal_c = gradient_descent(learning_rate, iterations, input_value, expected_output)\n",
        "print(\"Optimal M:\", optimal_m)\n",
        "print(\"Optimal C:\", optimal_c)"
      ],
      "metadata": {
        "colab": {
          "base_uri": "https://localhost:8080/"
        },
        "id": "lQQiLeng24on",
        "outputId": "b0bc1e0c-c522-4a70-991c-2fe90a50d953"
      },
      "execution_count": 4,
      "outputs": [
        {
          "output_type": "stream",
          "name": "stdout",
          "text": [
            "Optimal M: 0.19999999999999987\n",
            "Optimal C: 0.09999999999999994\n"
          ]
        }
      ]
    }
  ]
}